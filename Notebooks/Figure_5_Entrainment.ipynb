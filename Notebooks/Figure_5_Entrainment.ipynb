{
 "cells": [
  {
   "cell_type": "markdown",
   "metadata": {},
   "source": [
    "\n",
    "\n",
    "<b>This code deals with the analysis used to produce figure 5 in \"Storms drive outgassing of CO2 in the subpolar Southern Ocean\" Nature Communications. </b>\n",
    "\n",
    "Author: Sarah Nicholson\n",
    "\n",
    "Date: 02 November 2021"
   ]
  },
  {
   "cell_type": "code",
   "execution_count": 15,
   "metadata": {},
   "outputs": [],
   "source": [
    "%pylab inline\n",
    "import xarray as xr\n",
    "import dask\n",
    "import pandas as pd\n",
    "import airsea\n",
    "import cmocean as cm\n",
    "from cartopy import crs, feature\n",
    "import xesmf as xe\n",
    "from cartopy import crs as ccrs, feature as cfeature\n",
    "from cartopy.feature import ShapelyFeature\n",
    "from cartopy.io.shapereader import Reader\n",
    "from cartopy import crs as ccrs, feature as cfeature\n",
    "import seaborn as sns"
   ]
  },
  {
   "cell_type": "markdown",
   "metadata": {},
   "source": [
    "<b> First Load of Mask for subpolar regions </b>"
   ]
  },
  {
   "cell_type": "code",
   "execution_count": 22,
   "metadata": {},
   "outputs": [],
   "source": [
    "fpath = '../Data/Generalisation/'\n",
    "fname = 'zonal_masked_region.nc'\n",
    "m = xr.open_dataarray(fpath+fname)\n",
    "m = m[4:,:] "
   ]
  },
  {
   "cell_type": "markdown",
   "metadata": {},
   "source": [
    "# Step 1: Loading datasets required:"
   ]
  },
  {
   "cell_type": "markdown",
   "metadata": {},
   "source": [
    "<b> NB: The following steps 1-2 require downloading and working with large datasets - hpc required. For resulting output of entrainment the user should skip to step 3. </b>"
   ]
  },
  {
   "cell_type": "markdown",
   "metadata": {},
   "source": [
    "## Download JRA-55-Do winds to estimate XLD\n",
    "download uas and vas from here: https://esgf-node.llnl.gov/search/input4mips/\n",
    "To search, select \"Target MIP\" = \"OMIP\", \"Institution ID\" = \"MRI\", and \"Source Version\" = \"1.4.0\" among tabs on the left side."
   ]
  },
  {
   "cell_type": "code",
   "execution_count": null,
   "metadata": {
    "collapsed": true
   },
   "outputs": [],
   "source": [
    "from glob import glob\n",
    "\n",
    "ystart = 2005\n",
    "yend = 2021\n",
    "prefix = '/home/snicholson1/erth/DATA/JRA_WIND/'\n",
    "suffix = 'uas_input4MIPs_atmosphericState_OMIP_MRI-JRA55-do-1-4-0_gr_'\n",
    "all_flist = []\n",
    "for year_k in range(ystart, yend, 1):\n",
    "    flist_year_k = glob(prefix + suffix + str(year_k) + '*.nc')\n",
    "    all_flist += flist_year_k\n",
    "jra = xr.open_mfdataset(all_flist,concat_dim = 'time',combine='nested')\n",
    "\n",
    "so_i = find((jra.lat.values < -45 ) & (jra.lat.values > -68))\n",
    "jra_so = xr.open_mfdataset(all_flist,concat_dim = 'time',combine='nested').isel(lat=so_i)\n",
    "uas = jra_so.uas\n",
    "\n",
    "suffix = 'vas_input4MIPs_atmosphericState_OMIP_MRI-JRA55-do-1-4-0_gr_'\n",
    "all_flist = []\n",
    "for year_k in range(ystart, yend, 1):\n",
    "    flist_year_k = glob(prefix + suffix + str(year_k) + '*.nc')\n",
    "    all_flist += flist_year_k\n",
    "jra = xr.open_mfdataset(all_flist,concat_dim = 'time',combine='nested')\n",
    "\n",
    "jra_so = xr.open_mfdataset(all_flist,concat_dim = 'time',combine='nested').isel(lat=so_i)\n",
    "vas = jra_so.vas"
   ]
  },
  {
   "cell_type": "markdown",
   "metadata": {},
   "source": [
    "## Regrid wind data too a coarser grid"
   ]
  },
  {
   "cell_type": "code",
   "execution_count": null,
   "metadata": {
    "collapsed": true
   },
   "outputs": [],
   "source": [
    "import xesmf as xe\n",
    "ds_out = xr.Dataset({'lat': (['lat'], np.arange(mask.lat.min(), mask.lat.max()+1, 0.25)),\n",
    "                     'lon': (['lon'], np.arange(mask.lon.min(), mask.lon.max()+1, 0.25)),\n",
    "                    }\n",
    "                   )\n",
    "regridder = xe.Regridder(uas, ds_out, 'bilinear')\n",
    "regridder.clean_weight_file()\n",
    "regridder"
   ]
  },
  {
   "cell_type": "code",
   "execution_count": null,
   "metadata": {
    "collapsed": true
   },
   "outputs": [],
   "source": [
    "uasr = regridder(uas)\n",
    "del uas\n",
    "vasr = regridder(vas)\n",
    "del vas"
   ]
  },
  {
   "cell_type": "markdown",
   "metadata": {},
   "source": [
    "## Calculate XLD based on friction velocity and relationship to xld refer to figure S5"
   ]
  },
  {
   "cell_type": "code",
   "execution_count": null,
   "metadata": {
    "collapsed": true
   },
   "outputs": [],
   "source": [
    "wspd = np.sqrt(uasr**2 + vasr**2)\n",
    "tau = airsea.windstress.stress(wspd,drag='largepond')\n",
    "slope = 4451.981976635973\n",
    "xld = np.sqrt(tau/1025)*slope"
   ]
  },
  {
   "cell_type": "markdown",
   "metadata": {},
   "source": [
    "## Load EN4.2.1 temperature and salinity profiles \n",
    "Download data from here: https://www.metoffice.gov.uk/hadobs/en4/download-en4-2-1.html"
   ]
  },
  {
   "cell_type": "code",
   "execution_count": null,
   "metadata": {
    "collapsed": true
   },
   "outputs": [],
   "source": [
    "ystart = 2005\n",
    "yend = 2020\n",
    "prefix = '/home/snicholson1/erth/DATA/EN4_2_1/'\n",
    "suffix = 'EN.4.2.1.f.analysis.g10.'\n",
    "all_flist = []\n",
    "for year_k in range(ystart, yend, 1):\n",
    "    flist_year_k = glob(prefix + suffix + str(year_k) + '*.nc')\n",
    "    all_flist += flist_year_k\n",
    "en421 = xr.open_mfdataset(all_flist,concat_dim = 'time',combine='nested')\n",
    "\n",
    "so_i = find((en421.lat.values < -40 ) & (en421.lat.values > -65))\n",
    "en421_so = xr.open_mfdataset(all_flist,concat_dim = 'time',combine='nested').isel(lat=so_i)\n",
    "en421_so = en421_so.sortby('time')\n",
    "\n",
    "en421_so_seasons = en421_so.groupby('time.season')\n"
   ]
  },
  {
   "cell_type": "markdown",
   "metadata": {},
   "source": [
    "## Compute potential density "
   ]
  },
  {
   "cell_type": "code",
   "execution_count": null,
   "metadata": {
    "collapsed": true
   },
   "outputs": [],
   "source": [
    "en421_so.lat\n",
    "t,z,y,x = np.shape(en421_so.salinity)\n",
    "lat2d = np.tile(en421_so.lat,[t,1])\n",
    "lat3d = np.zeros((t,z,y,x))\n",
    "for i in range(x):\n",
    "    for zz in range(z):\n",
    "        lat3d[:,zz,:,i] = lat2d\n",
    "        \n",
    "lon2d = np.tile(en421_so.lon,[t,1])\n",
    "lon3d = np.zeros((t,z,y,x))\n",
    "for j in range(y):\n",
    "    for zz in range(z):\n",
    "        lon3d[:,zz,:,i] = lat2d\n",
    "        \n",
    "t,z,y,x = np.shape(en421_so.salinity)\n",
    "depth2d = np.tile(en421_so.depth,[t,1])\n",
    "depth3d = np.zeros((t,z,y,x))\n",
    "for i in range(x):\n",
    "    for j in range(y):\n",
    "        depth3d[:,:,j,i] = depth2d"
   ]
  },
  {
   "cell_type": "code",
   "execution_count": null,
   "metadata": {
    "collapsed": true
   },
   "outputs": [],
   "source": [
    "salt_abs = gsw.SA_from_SP(en421_so.salinity,depth3d,lon3d,lat3d)\n",
    "dens0 = gsw.pot_rho_t_exact(salt_abs,en421_so.temperature-273.15,depth3d,0)"
   ]
  },
  {
   "cell_type": "code",
   "execution_count": null,
   "metadata": {
    "collapsed": true
   },
   "outputs": [],
   "source": [
    "dens0_1 = xr.DataArray(dens0,dims=('time','depth','lat','lon'),coords={'time':en421_so.time,'depth':en421_so.depth,'lat': en421_so.lat, 'lon': en421_so.lon})\n"
   ]
  },
  {
   "cell_type": "markdown",
   "metadata": {},
   "source": [
    "## CALCULATE THE MLD"
   ]
  },
  {
   "cell_type": "code",
   "execution_count": null,
   "metadata": {
    "collapsed": true
   },
   "outputs": [],
   "source": [
    "def mld_profile(dens_or_temp, depth, thresh, ref_depth, mask=False):\n",
    "\n",
    "    i = np.nanargmin(np.abs(depth - ref_depth))\n",
    "\n",
    "    if np.isnan(dens_or_temp[i]):\n",
    "        mld = np.nan\n",
    "    else:\n",
    "        dd = dens_or_temp - dens_or_temp[i]  # density difference\n",
    "        dd[depth < ref_depth] = np.nan\n",
    "        abs_dd = abs(dd - thresh)\n",
    "        depth_idx = np.nanargmin(abs_dd)\n",
    "        mld = depth[depth_idx]\n",
    "\n",
    "    if mask:\n",
    "        return depth <= mld\n",
    "    else:\n",
    "        return mld"
   ]
  },
  {
   "cell_type": "code",
   "execution_count": null,
   "metadata": {
    "collapsed": true
   },
   "outputs": [],
   "source": [
    "lm = np.ma.masked_invalid(en421_so.salinity[0,0,::])\n",
    "t,z,y,x = np.shape(en421_so.salinity)\n",
    "dens0_1 = dens0_1.rolling(depth=8,center=True,min_periods=2).median()\n",
    "mld = np.zeros((t,y,x))\n",
    "for i in range(x):\n",
    "    for j in range(y):\n",
    "        \n",
    "        # ignore land\n",
    "        if (lm.mask[j,i] == True):\n",
    "            mld[:,j,i] = np.ones((t))*-9999\n",
    "        else:\n",
    "            for k in range(t):\n",
    "                if (np.isnan(np.diff(dens0_1[k,:,j,i]))).all():                \n",
    "                    mld[k,j,i] = -9999\n",
    "                else:\n",
    "                    mld[k,j,i] = mld_profile(dens0_1[k,:,j,i],depth3d[k,:,j,i],0.03,15)"
   ]
  },
  {
   "cell_type": "code",
   "execution_count": null,
   "metadata": {
    "collapsed": true
   },
   "outputs": [],
   "source": [
    "mld_1 = xr.DataArray(mld,dims=('time','lat','lon'),coords={'time':en421_so.time,'lat': en421_so.lat, 'lon': en421_so.lon})\n",
    "mld_1.to_netcdf('mld_rho003_15m_EN421_2005_2019.nc')\n"
   ]
  },
  {
   "cell_type": "markdown",
   "metadata": {},
   "source": [
    "## Load DIC data\n",
    "DIC data available from here: https://digital.csic.es/handle/10261/200537\n"
   ]
  },
  {
   "cell_type": "code",
   "execution_count": 12,
   "metadata": {},
   "outputs": [
    {
     "name": "stdout",
     "output_type": "stream",
     "text": [
      "Create weight file: bilinear_25x360_24x360.nc\n",
      "Remove file bilinear_25x360_24x360.nc\n"
     ]
    }
   ],
   "source": [
    "fpath = 'ADD_YOUR_PATH/'\n",
    "fname = 'TCO2_NNGv2LDEO_climatology.nc'\n",
    "dic_b = xr.open_dataset(fpath+fname)\n",
    "\n",
    "ilat = (dic_b.latitude < -40 ) & (dic_b.latitude > -65 )\n",
    "dic_broullon1 = dic_b.TCO2_NNGv2LDEO[:,ilat,:].T\n",
    "dic_broullon = dic_broullon1.rename({'longitude': 'lon','latitude': 'lat'})\n",
    "\n",
    "# Regrid data:\n",
    "import xesmf as xe\n",
    "ds_out = xr.Dataset({'lat': (['lat'], np.arange(m.lat.min(), m.lat.max()+1, 1)),\n",
    "                     'lon': (['lon'], np.arange(m.lon.min(), m.lon.max()+1, 1)),\n",
    "                    }\n",
    "                   )\n",
    "regridder = xe.Regridder(dic_broullon, ds_out, 'bilinear')\n",
    "regridder.clean_weight_file()\n",
    "\n",
    "dic_broullong = regridder(dic_broullon)#.values"
   ]
  },
  {
   "cell_type": "markdown",
   "metadata": {},
   "source": [
    "<b>----------------------------------------------------------------------------------------"
   ]
  },
  {
   "cell_type": "markdown",
   "metadata": {},
   "source": [
    "# STEP 2:  Entrainment\n"
   ]
  },
  {
   "cell_type": "markdown",
   "metadata": {},
   "source": [
    "## Setup surface and subsurface reservoirs of DIC\n",
    "### Reservoir fixed per year and depends on max MLD"
   ]
  },
  {
   "cell_type": "code",
   "execution_count": 14,
   "metadata": {
    "collapsed": true
   },
   "outputs": [],
   "source": [
    "dic_broullongm = dic_broullong.mean('time')\n",
    "mldmax = mld.groupby('time.year').max()"
   ]
  },
  {
   "cell_type": "code",
   "execution_count": 16,
   "metadata": {},
   "outputs": [],
   "source": [
    "depth_bg =dic_b.depth\n",
    "y,x = np.shape(dic_broullong[0,0,::])\n",
    "years = np.arange(2006,2020,1)\n",
    "dic_dep2d = np.tile(depth_bg,[y,x])\n",
    "dic1_0t= np.zeros((np.size(years),y,x))\n",
    "dic1_1t= np.zeros((np.size(years),y,x))\n",
    "\n",
    "for i in np.arange(np.size(years)):\n",
    "        for j in np.arange(y):\n",
    "                for k in np.arange(x):\n",
    "                    h1_max =  mldmax[i,j,k]  \n",
    "                    zres = np.nanargmin(np.abs(depth_bg.values - h1_max.values))\n",
    "                    \n",
    "                    #Surface reserviour 0-mld max\n",
    "                    dic1_0t[i,j,k] = np.nanmean(dic_broullongm.values[0:zres,j,k])#.mean()\n",
    "                    \n",
    "                    #Sub surface reserviour mld_max: mld_max+1\n",
    "                    dic1_1t[i,j,k] = np.nanmean(dic_broullongm.values[zres:zres+1,j,k])\n",
    "\n",
    "    \n",
    "dic1_0t[dic1_0t< 100]= np.nan\n"
   ]
  },
  {
   "cell_type": "markdown",
   "metadata": {},
   "source": [
    "## Calculate the entrainment of DIC when XLD > MLDmax\n",
    "\n",
    "\n",
    "\n",
    "Z_ent  = ∫ H × (1/ MLD_max × (DIC_deep - DIC_surf )× ∂XLD/∂t)dt\t\t         \n",
    "\n",
    "\n",
    "where using x =  XLD/MLD_max ,\n",
    "\n",
    "H= 1,if x > 1  and  ∂XLD/∂t  > 0,\t\n",
    "\n",
    "H = 0,if x < 1 or  ∂XLD/∂t  < 0, \n"
   ]
  },
  {
   "cell_type": "code",
   "execution_count": 19,
   "metadata": {},
   "outputs": [
    {
     "data": {
      "text/plain": [
       "<dask.config.set at 0x7fff2985a3d0>"
      ]
     },
     "execution_count": 19,
     "metadata": {},
     "output_type": "execute_result"
    }
   ],
   "source": [
    "dask.config.set(**{'array.slicing.split_large_chunks': False})"
   ]
  },
  {
   "cell_type": "code",
   "execution_count": 20,
   "metadata": {},
   "outputs": [],
   "source": [
    "# drop leap day from leap year to avoid issues:\n",
    "\n",
    "xld_noleap = xld.sel(time=~((xld.time.dt.month == 2) & (xld.time.dt.day == 29)))"
   ]
  },
  {
   "cell_type": "code",
   "execution_count": 21,
   "metadata": {
    "collapsed": true
   },
   "outputs": [],
   "source": [
    "\n",
    "years = np.arange(2006,2020,1)\n",
    "t,y,x = np.shape(xld[:,:,:])\n",
    "dDIC = np.zeros((np.size(years),2920,y,x))\n",
    "dTalk = np.zeros((np.size(years),2920,y,x))\n",
    "entrain_dates = np.zeros((np.size(years),2920))\n",
    "dtime = np.zeros((np.size(years),2920))\n",
    "#dt=3 # JRA = three hourly\n",
    "\n",
    "for i in np.arange(np.size(years)-1):\n",
    "    \n",
    "    h1_max =  mld.rolling(time=2,center=True).mean().groupby('time.year').max()[i]\n",
    "    \n",
    "    H = xld_noleap[:,:,:].sel(time=slice(str(years[i]) + '-01-01', str(years[i]) + '-12-31' ))\n",
    "\n",
    "    entrain_dates[i,::] = H.time\n",
    "    \n",
    "    mask = (H - h1_max  > 0)  & (H.diff('time') > 0)\n",
    "    \n",
    "    # entrainment of DIC\n",
    "    dDIC[i,::] =  (dic1_1t[i,:-5,:] - dic1_0t[i,:-5,:]) * np.insert(H.diff('time')*mask,0,np.nan,axis=0).transpose(\"time\", \"lat\", \"lon\")\n"
   ]
  },
  {
   "cell_type": "code",
   "execution_count": 22,
   "metadata": {
    "collapsed": true
   },
   "outputs": [],
   "source": [
    "dic_entrain = xr.DataArray(np.reshape(dDIC,[14*2920,19,360]), dims=['time', 'lats','lons'],coords={'time':pd.to_datetime(entrain_dates.flatten()),'lats':H.lat.values,'lons':H.lon.values})\n",
    "dic_entrain_m = dic_entrain.mean('time') "
   ]
  },
  {
   "cell_type": "markdown",
   "metadata": {},
   "source": [
    "# Step 3: Figure 5"
   ]
  },
  {
   "cell_type": "markdown",
   "metadata": {},
   "source": [
    "<b> User should start here if using entrainment outputs from preceding steps 1-2 </b>"
   ]
  },
  {
   "cell_type": "markdown",
   "metadata": {},
   "source": [
    "## Download CO2 flux data\n",
    "\n",
    "Gregor, L., Lebehot, A. D., Kok, S. & Monteiro, P. M. S. Global surface-ocean partial pressure of carbon dioxide (pCO2) estimates from a machine learning ensemble: CSIR-ML6 v2019a (NCEI Accession 0206205). (2019) doi:doi.org/10.25921/z682-mn47.\n",
    "\n",
    "download data: https://figshare.com/articles/dataset/Global_surface_ocean_pCO2_from_CSIR-ML6_2020a_/12652100/4"
   ]
  },
  {
   "cell_type": "code",
   "execution_count": null,
   "metadata": {},
   "outputs": [],
   "source": [
    "# User needs to download this data first.\n",
    "\n",
    "fpath = 'ADD_YOUR_PATH/'\n",
    "fname = '/CSIR-ML6_CO2_1982-2019_figshare.nc'\n",
    "\n",
    "lg_co2 = xr.open_mfdataset(fpath+fname,combine='by_coords')\n",
    "i= (lg_co2.lat < -35) & (lg_co2.lat > -90) \n",
    "lg_co21 = lg_co2.fgco2[276:,i,:] # select 2005-2020\n",
    "seasonco2 = lg_co2.fgco2[276:,i,:].groupby('time.season').mean('time')\n",
    "lg_dpco21 = lg_co2.spco2[276:,i,:] \n",
    "seasondpco2 = lg_dpco21.groupby('time.season').mean('time')\n",
    "\n",
    "# Regrid data:\n",
    "ds_out = xr.Dataset({'lat': (['lat'], np.arange(m.lat.min(), m.lat.max()+1, 1)),\n",
    "                     'lon': (['lon'], np.arange(m.lon.min(), m.lon.max()+1, 1)),\n",
    "                    }\n",
    "                   )\n",
    "regridder = xe.Regridder(lg_co21, ds_out, 'bilinear')\n",
    "regridder.clean_weight_file()\n",
    "\n",
    "lg_co21g = regridder(lg_co21)"
   ]
  },
  {
   "cell_type": "markdown",
   "metadata": {},
   "source": [
    "##  Calculate CO2 amplitude (fig 5b)"
   ]
  },
  {
   "cell_type": "code",
   "execution_count": 28,
   "metadata": {},
   "outputs": [],
   "source": [
    "fco2_clim = lg_co21g.groupby('time.month').mean() # units mol/m2/s\n",
    "fco2_clim_amp = np.abs((fco2_clim.max('month') - fco2_clim.min('month')))*86400*365"
   ]
  },
  {
   "cell_type": "markdown",
   "metadata": {},
   "source": [
    "## Load entrainment output from steps 1 and 2"
   ]
  },
  {
   "cell_type": "code",
   "execution_count": 19,
   "metadata": {},
   "outputs": [],
   "source": [
    "fname = '../Data/Generalisation/Zent_DIC_annual_mean_Fig5a.nc'\n",
    "dic_entrain_m = xr.open_dataset(fname)\n",
    "dic_entrain_m = dic_entrain_m.__xarray_dataarray_variable__"
   ]
  },
  {
   "cell_type": "code",
   "execution_count": 14,
   "metadata": {},
   "outputs": [],
   "source": [
    "cm1 = 1/2.54  # centimeters in inches\n",
    "sns.set_style(\"white\")\n",
    "rcParams['font.family'] = 'Arial'\n",
    "rcParams['font.size'] = 7\n",
    "#rcParams['pcolor.shading'] = 'nearest'"
   ]
  },
  {
   "cell_type": "code",
   "execution_count": 66,
   "metadata": {},
   "outputs": [
    {
     "name": "stderr",
     "output_type": "stream",
     "text": [
      "/home/snicholson1/.conda/envs/py3/lib/python3.7/site-packages/cartopy/mpl/geoaxes.py:1598: MatplotlibDeprecationWarning:\n",
      "\n",
      "shading='flat' when X and Y have the same dimensions as C is deprecated since 3.3.  Either specify the corners of the quadrilaterals with X and Y, or pass shading='auto', 'nearest' or 'gouraud', or set rcParams['pcolor.shading'].  This will become an error two minor releases later.\n",
      "\n"
     ]
    },
    {
     "data": {
      "image/png": "[encoded data removed]",
      "text/plain": [
       "<Figure size 510.236x283.465 with 4 Axes>"
      ]
     },
     "metadata": {},
     "output_type": "display_data"
    }
   ],
   "source": [
    "fname = '../Data/10m_coastline.shp'\n",
    "shape_feature = ShapelyFeature(Reader(fname).geometries(),\n",
    "                                 ccrs.PlateCarree(), lw=.5, edgecolor='k', facecolor='white')\n",
    "\n",
    "#-------------------------------\n",
    "fig=plt.figure(figsize=(18*cm1, 10*cm1))\n",
    "ax = fig.add_subplot(121,projection = ccrs.Stereographic(central_latitude=-90))\n",
    "from cartopy.util import add_cyclic_point\n",
    "\n",
    "mesh=ax.pcolormesh(dic_entrain_m.lons,dic_entrain_m.lats,dic_entrain_m.where(m[:-5,:].values==True),vmin=0,vmax=8,cmap='RdYlBu_r',transform = ccrs.PlateCarree(),zorder=-1)\n",
    "cb = plt.colorbar(mesh, orientation = 'horizontal', shrink=0.4, aspect = 10, pad = 0.11,ticks=[0,4,8],)\n",
    "cb.ax.set_title('Z$_{ENT}$ [mol m$^{-2}$yr$^{-1}$]',fontsize=7,)\n",
    "ax.add_feature(shape_feature, zorder=100)\n",
    "datam, lon1 = add_cyclic_point(m, m.lon)\n",
    "ax.contour(m.lon,m.lat,m,1 ,transform = ccrs.PlateCarree(),zorder=100,linewidths=1,colors='black')\n",
    "ax.set_title('a',fontweight='bold', x=0,y=.99,loc='left',zorder=280,fontsize=8)\n",
    "ax.plot(0,-54,marker='o',markersize=8,color='k',markeredgecolor='white',transform = ccrs.PlateCarree(),zorder=501)\n",
    "gl = ax.gridlines(crs=ccrs.PlateCarree(), linewidth=.2, color='black', alpha=0.5, linestyle='--', draw_labels=True)\n",
    "gl.fontsize=5\n",
    "\n",
    "ax = fig.add_subplot(122,projection = ccrs.Stereographic(central_latitude=-90))\n",
    "from cartopy.util import add_cyclic_point\n",
    "mesh=ax.pcolormesh(lon1,fco2_clim_amp.lat[:],fco2_clim_amp.where(m[:,:].values==True),vmin=0,vmax=4,cmap='RdYlBu_r',transform = ccrs.PlateCarree(),zorder=-1)#'RdYlBu_r'\n",
    "cb = plt.colorbar(mesh, orientation = 'horizontal', shrink=0.4, aspect = 10, pad = 0.11)\n",
    "cb.ax.set_title('F$_{CO_2}$ [mol m$^{-2}$yr$^{-1}$]',fontsize=7)\n",
    "ax.add_feature(shape_feature, zorder=100)\n",
    "ax.plot(0,-54,marker='o',markersize=8,color='k',markeredgecolor='white',transform = ccrs.PlateCarree(),zorder=201,)\n",
    "ax.set_title('b',fontweight='bold',x=0, y=.99,loc='left',zorder=280,fontsize=8)\n",
    "ax.contour(m.lon,m.lat,m,1 ,transform = ccrs.PlateCarree(),zorder=100,linewidths=1,colors='black')\n",
    "gl = ax.gridlines(crs=ccrs.PlateCarree(), linewidth=.2, color='black', alpha=0.5, linestyle='--', draw_labels=True)\n",
    "gl.fontsize=5\n"
   ]
  }
 ],
 "metadata": {
  "anaconda-cloud": {},
  "kernelspec": {
   "display_name": "Python (py3)",
   "language": "python",
   "name": "py3"
  },
  "language_info": {
   "codemirror_mode": {
    "name": "ipython",
    "version": 3
   },
   "file_extension": ".py",
   "mimetype": "text/x-python",
   "name": "python",
   "nbconvert_exporter": "python",
   "pygments_lexer": "ipython3",
   "version": "3.8.1"
  },
  "toc": {
   "base_numbering": 1,
   "nav_menu": {},
   "number_sections": true,
   "sideBar": true,
   "skip_h1_title": false,
   "title_cell": "Table of Contents",
   "title_sidebar": "Contents",
   "toc_cell": false,
   "toc_position": {},
   "toc_section_display": true,
   "toc_window_display": false
  }
 },
 "nbformat": 4,
 "nbformat_minor": 2
}
